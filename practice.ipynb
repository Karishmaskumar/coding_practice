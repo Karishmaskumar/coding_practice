{
 "cells": [
  {
   "cell_type": "code",
   "execution_count": null,
   "id": "715e4cd0",
   "metadata": {},
   "outputs": [],
   "source": [
    "\n",
    "\"\"\"\n",
    "Given an array of size n, take an integer k, such that 1<k<n. Find the mex of first k elements and store it in the result array and remove the k elements from the given array. Similarly continue with different k values till the end of array\n",
    "MEX of array is minimum non-negative integer which is not present in array.\n",
    "Eg: n=6, arr = [0,1,3,4,1,2]\n",
    "K = 4, 2 Result = [2,0]\n",
    "\n",
    "Given an array find the min difference to make it sorted in ascending or descending order\n",
    "Eg1: 9,7,6,5,2,3,3\n",
    "To make it sorted (9,7,6,5,3,3,3) min diff = |2-3|=1\n",
    "Eg2: 1,3,4,6,5,7\n",
    "To make it sorted (1,3,4,6,6,7) min diff = |6-7|=1\n",
    "\n",
    "There are levels of game. An array with entry level fee of each level is given and the amount available is given as k. Winning each level gives the player 1 point. The user can skip atmost one level. Find the maximum points he can get.\n",
    "Eg: k = 14, arr = [1,3,4,2,6]\n",
    "Max points = 4\n",
    "\n",
    "\"\"\""
   ]
  },
  {
   "cell_type": "code",
   "execution_count": 39,
   "id": "5edb2c4c",
   "metadata": {},
   "outputs": [
    {
     "name": "stdout",
     "output_type": "stream",
     "text": [
      "[1, 0]\n"
     ]
    }
   ],
   "source": [
    "#1\n",
    "\"\"\"\n",
    "Given an array of size n, take an integer k, such that 1<k<n. Find the mex of first k elements and store it in the result array and remove the k elements from the given array. Similarly continue with different k values till the end of array\n",
    "MEX of array is minimum non-negative integer which is not present in array.\n",
    "Eg: n=6, arr = [0,1,3,4,1,2]\n",
    "K = 4, 2 Result = [2,0]\n",
    "\"\"\"\n",
    "import random\n",
    "def mex(arr, n, k):\n",
    "    results = []\n",
    "    s = len(arr)\n",
    "    while len(arr) != 0 and len(arr)>=k:\n",
    "        for i in range(k+1):\n",
    "            if i not in arr[0:k]:\n",
    "                results.append(i)\n",
    "                break\n",
    "        arr = arr[k::]\n",
    "            \n",
    "        k = s - k\n",
    "    return results\n",
    "        \n",
    "\n",
    "n = 6\n",
    "arr = [0,1,3,4,1,2]\n",
    "k = 1\n",
    "#k = random.randrange(1,n)\n",
    "#print(k)\n",
    "print(mex(arr, n, int(k)))"
   ]
  },
  {
   "cell_type": "code",
   "execution_count": 38,
   "id": "5569832c",
   "metadata": {},
   "outputs": [
    {
     "name": "stdout",
     "output_type": "stream",
     "text": [
      "1\n",
      "1\n"
     ]
    }
   ],
   "source": [
    "\n",
    "\"\"\"\n",
    "Given an array find the min difference to make it sorted in ascending or descending order\n",
    "Eg1: 9,7,6,5,2,3,3\n",
    "To make it sorted (9,7,6,5,3,3,3) min diff = |2-3|=1\n",
    "Eg2: 1,3,4,6,5,7\n",
    "To make it sorted (1,3,4,6,6,7) min diff = |5-6|=1\n",
    "\n",
    "eg3: 1,3,4,2,5,7\n",
    "\n",
    "\"\"\"\n",
    "\n",
    "def diff(arr):\n",
    "    diff1 = 0\n",
    "    diff2 = 0\n",
    "    \n",
    "    for i in range(len(arr)-1): #desc\n",
    "        if arr[i+1] > arr[i]:\n",
    "            diff1 += 1\n",
    "            \n",
    "    for j in range(len(arr)-1): #asc\n",
    "        if arr[j+1] < arr[j]:\n",
    "            diff2 += 1\n",
    "            \n",
    "    return min(diff1, diff2)\n",
    "\n",
    "arr = [9,7,6,5,4,5,3]\n",
    "arr2 = [1,3,4,6,5,7]\n",
    "print(diff(arr))\n",
    "print(diff(arr2))"
   ]
  },
  {
   "cell_type": "code",
   "execution_count": 35,
   "id": "07e54290",
   "metadata": {},
   "outputs": [
    {
     "name": "stdout",
     "output_type": "stream",
     "text": [
      "[1, 2, 3, 4, 6]\n",
      "4\n"
     ]
    }
   ],
   "source": [
    "\"\"\"\n",
    "There are levels of game. An array with entry level fee of each level is given and the amount available is given as k. \n",
    "Winning each level gives the player 1 point. The user can skip atmost one level. Find the maximum points he can get.\n",
    "Eg: k = 14, arr = [1,3,4,2,6]\n",
    "Max points = 4\n",
    "\n",
    "k =14 arr=[1,12,6,7,1,1,1,1,1,1]  \n",
    "\"\"\"\n",
    "\n",
    "def points(arr, k):\n",
    "    arr.sort()\n",
    "    print(arr)\n",
    " \n",
    "    count = 0\n",
    "    sum1 = 0\n",
    "    \n",
    "    for i in range(len(arr)):\n",
    "        if sum1+arr[i] <= k:\n",
    "            sum1 += arr[i]\n",
    "            count += 1\n",
    "            \n",
    "    return count\n",
    "\n",
    "k = 14\n",
    "arr = [1,3,4,2,6]\n",
    "\n",
    "print(points(arr, k))"
   ]
  },
  {
   "cell_type": "code",
   "execution_count": null,
   "id": "2f352ca1",
   "metadata": {},
   "outputs": [],
   "source": [
    "\"\"\"\n",
    "You are given an array of variable pairs equations and an array of real numbers values, where equations[i] = [Ai, Bi] and values[i] represent the equation Ai / Bi = values[i]. Each Ai or Bi is a string that represents a single variable.\n",
    "\n",
    "You are also given some queries, where queries[j] = [Cj, Dj] represents the jth query where you must find the answer for Cj / Dj = ?.\n",
    "\n",
    "Return the answers to all queries. If a single answer cannot be determined, return -1.0.\n",
    "\n",
    "Note: The input is always valid. You may assume that evaluating the queries will not result in division by zero and that there is no contradiction.\n",
    "\n",
    "Input: equations = [[\"a\",\"b\"],[\"b\",\"c\"]], values = [2.0,3.0], queries = [[\"a\",\"c\"],[\"b\",\"a\"],[\"a\",\"e\"],[\"a\",\"a\"],[\"x\",\"x\"]]\n",
    "Output: [6.00000,0.50000,-1.00000,1.00000,-1.00000]\n",
    "Explanation: \n",
    "Given: a / b = 2.0, b / c = 3.0\n",
    "queries are: a / c = ?, b / a = ?, a / e = ?, a / a = ?, x / x = ?\n",
    "return: [6.0, 0.5, -1.0, 1.0, -1.0 ]\n",
    "dict ={\n",
    "a:  (b, 2.0),\n",
    "b : (c, 3.0)\n",
    "}\n",
    "\"\"\"\n",
    "\n",
    "\n",
    "class Solution(object):\n",
    "    def calcEquation(self, equations, values, queries):\n",
    "        \"\"\"\n",
    "        :type equations: List[List[str]]\n",
    "        :type values: List[float]\n",
    "        :type queries: List[List[str]]\n",
    "        :rtype: List[float]\n",
    "        \"\"\"\n",
    "        \n",
    "        graph = defaultdict(set)\n",
    "        for [u,v], value in (equations, values):\n",
    "            graph[u].add(v, value)\n",
    "            graph[v].add(u, 1/value)\n",
    "        result = []\n",
    "        for a, b in queries:\n",
    "            result.append(compute(a,b,graph, ))\n",
    "        \n",
    "        return result\n",
    "\n",
    "    def compute(a,b,graph, visit):\n",
    "        if a == b:\n",
    "            return 1\n",
    "        visit.add(a)\n",
    "        for key,value in graph[a]:\n",
    "            if key == b:\n",
    "                return value\n",
    "\n",
    "            if key not in visit:\n",
    "                x = compute(key,y,graph, visit)\n",
    "                return x\n",
    "        \n",
    "\n",
    "            \n",
    "\n",
    "\n",
    "\n"
   ]
  }
 ],
 "metadata": {
  "kernelspec": {
   "display_name": "Python 3",
   "language": "python",
   "name": "python3"
  },
  "language_info": {
   "codemirror_mode": {
    "name": "ipython",
    "version": 3
   },
   "file_extension": ".py",
   "mimetype": "text/x-python",
   "name": "python",
   "nbconvert_exporter": "python",
   "pygments_lexer": "ipython3",
   "version": "3.8.8"
  }
 },
 "nbformat": 4,
 "nbformat_minor": 5
}
